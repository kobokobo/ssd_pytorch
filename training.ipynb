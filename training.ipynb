{
 "cells": [
  {
   "cell_type": "code",
   "execution_count": 1,
   "metadata": {
    "colab": {},
    "colab_type": "code",
    "id": "tg97Lwr3Is3W"
   },
   "outputs": [],
   "source": [
    "# Copyright (c) 2017 Max deGroot, Ellis Brown\n",
    "# Released under the MIT license\n",
    "# https://github.com/amdegroot/ssd.pytorch\n",
    "# Updated by: Takuya Mouri"
   ]
  },
  {
   "cell_type": "code",
   "execution_count": 2,
   "metadata": {
    "colab": {},
    "colab_type": "code",
    "id": "ukRAb4TDYQBQ"
   },
   "outputs": [],
   "source": [
    "## バージョンを指定する場合、セルをコメントアウトしてください。\n",
    "#!pip install torch==0.4.1\n",
    "#!pip install torchvision==0.2.1\n",
    "#!pip install numpy==1.14.6\n",
    "#!pip install matplotlib==2.1.2\n",
    "#!pip install Pillow==5.0.0"
   ]
  },
  {
   "cell_type": "code",
   "execution_count": 1,
   "metadata": {
    "colab": {
     "base_uri": "https://localhost:8080/",
     "height": 34
    },
    "colab_type": "code",
    "executionInfo": {
     "elapsed": 1425,
     "status": "ok",
     "timestamp": 1554481220722,
     "user": {
      "displayName": "毛利拓也",
      "photoUrl": "",
      "userId": "17854120745961292401"
     },
     "user_tz": -540
    },
    "id": "36x7-x89zFWm",
    "outputId": "f41b8f08-2c27-4ed8-d095-84d2f29a51fc"
   },
   "outputs": [
    {
     "name": "stdout",
     "output_type": "stream",
     "text": [
      "0.4.1\n"
     ]
    }
   ],
   "source": [
    "# version確認\n",
    "import torch\n",
    "print(torch.__version__)"
   ]
  },
  {
   "cell_type": "code",
   "execution_count": 2,
   "metadata": {
    "colab": {
     "base_uri": "https://localhost:8080/",
     "height": 34
    },
    "colab_type": "code",
    "executionInfo": {
     "elapsed": 1414,
     "status": "ok",
     "timestamp": 1554481220727,
     "user": {
      "displayName": "毛利拓也",
      "photoUrl": "",
      "userId": "17854120745961292401"
     },
     "user_tz": -540
    },
    "id": "jjjwuq-qMBJP",
    "outputId": "d35e0fd5-d70d-45e5-dd86-1fa70a075283"
   },
   "outputs": [
    {
     "data": {
      "text/plain": [
       "True"
      ]
     },
     "execution_count": 2,
     "metadata": {},
     "output_type": "execute_result"
    }
   ],
   "source": [
    "# GPUの接続\n",
    "import torch\n",
    "torch.cuda.is_available()"
   ]
  },
  {
   "cell_type": "markdown",
   "metadata": {
    "colab_type": "text",
    "id": "PWp4OFE_MFQR"
   },
   "source": [
    "# Google Driveへのマウント（Colab利用時のみ）"
   ]
  },
  {
   "cell_type": "code",
   "execution_count": 5,
   "metadata": {
    "colab": {
     "base_uri": "https://localhost:8080/",
     "height": 34
    },
    "colab_type": "code",
    "executionInfo": {
     "elapsed": 1078,
     "status": "ok",
     "timestamp": 1554481225031,
     "user": {
      "displayName": "毛利拓也",
      "photoUrl": "",
      "userId": "17854120745961292401"
     },
     "user_tz": -540
    },
    "id": "ibiiS_A4nJ_k",
    "outputId": "305927e8-44f8-4968-9290-c17e56ae02d0"
   },
   "outputs": [
    {
     "ename": "ImportError",
     "evalue": "No module named 'google.colab'",
     "output_type": "error",
     "traceback": [
      "\u001b[0;31m---------------------------------------------------------------------------\u001b[0m",
      "\u001b[0;31mImportError\u001b[0m                               Traceback (most recent call last)",
      "\u001b[0;32m<ipython-input-5-d6049170f51c>\u001b[0m in \u001b[0;36m<module>\u001b[0;34m\u001b[0m\n\u001b[1;32m      1\u001b[0m \u001b[0;31m# Google Driveにマウント\u001b[0m\u001b[0;34m\u001b[0m\u001b[0;34m\u001b[0m\u001b[0m\n\u001b[0;32m----> 2\u001b[0;31m \u001b[0;32mfrom\u001b[0m \u001b[0mgoogle\u001b[0m\u001b[0;34m.\u001b[0m\u001b[0mcolab\u001b[0m \u001b[0;32mimport\u001b[0m \u001b[0mdrive\u001b[0m\u001b[0;34m\u001b[0m\u001b[0m\n\u001b[0m\u001b[1;32m      3\u001b[0m \u001b[0mdrive\u001b[0m\u001b[0;34m.\u001b[0m\u001b[0mmount\u001b[0m\u001b[0;34m(\u001b[0m\u001b[0;34m'/content/gdrive'\u001b[0m\u001b[0;34m)\u001b[0m\u001b[0;34m\u001b[0m\u001b[0m\n",
      "\u001b[0;31mImportError\u001b[0m: No module named 'google.colab'"
     ]
    }
   ],
   "source": [
    "# Google Driveにマウント\n",
    "from google.colab import drive\n",
    "drive.mount('/content/gdrive')"
   ]
  },
  {
   "cell_type": "code",
   "execution_count": 0,
   "metadata": {
    "colab": {
     "base_uri": "https://localhost:8080/",
     "height": 34
    },
    "colab_type": "code",
    "executionInfo": {
     "elapsed": 763,
     "status": "ok",
     "timestamp": 1554481225509,
     "user": {
      "displayName": "毛利拓也",
      "photoUrl": "",
      "userId": "17854120745961292401"
     },
     "user_tz": -540
    },
    "id": "wUvW0tiznVy5",
    "outputId": "cda50664-9412-4ef4-d3a1-b2c7bd102e91"
   },
   "outputs": [
    {
     "name": "stdout",
     "output_type": "stream",
     "text": [
      "/content/gdrive/My Drive/Colab Notebooks/pytorch_handbook/chapter7_v1.0\n"
     ]
    }
   ],
   "source": [
    "# フォルダ移動\n",
    "cd /content/gdrive/My Drive/Colab Notebooks/pytorch_handbook/chapter7"
   ]
  },
  {
   "cell_type": "code",
   "execution_count": 0,
   "metadata": {
    "colab": {
     "base_uri": "https://localhost:8080/",
     "height": 68
    },
    "colab_type": "code",
    "executionInfo": {
     "elapsed": 3653,
     "status": "ok",
     "timestamp": 1554481229920,
     "user": {
      "displayName": "毛利拓也",
      "photoUrl": "",
      "userId": "17854120745961292401"
     },
     "user_tz": -540
    },
    "id": "Mgu9TLgsNvcW",
    "outputId": "98129732-75b4-4d8b-f9a6-e7bf925175ed"
   },
   "outputs": [
    {
     "name": "stdout",
     "output_type": "stream",
     "text": [
      "data\t__pycache__\t       section7_4_v1.0.ipynb  VOCdevkit\n",
      "demo\tsection7_4.ipynb       ssd.py\t\t      weights\n",
      "layers\tsection7_4_v0.4.ipynb  utils\n"
     ]
    }
   ],
   "source": [
    "# ファイル名を表示\n",
    "!ls"
   ]
  },
  {
   "cell_type": "markdown",
   "metadata": {
    "colab_type": "text",
    "id": "OIEKTtxSN3xL"
   },
   "source": [
    "# ベースネットVGG-16のパラメータをダウンロード（フォルダweights未格納時）"
   ]
  },
  {
   "cell_type": "code",
   "execution_count": 3,
   "metadata": {
    "colab": {
     "base_uri": "https://localhost:8080/",
     "height": 204
    },
    "colab_type": "code",
    "executionInfo": {
     "elapsed": 7266,
     "status": "ok",
     "timestamp": 1554470557104,
     "user": {
      "displayName": "毛利拓也",
      "photoUrl": "",
      "userId": "17854120745961292401"
     },
     "user_tz": -540
    },
    "id": "QjoaVYNIVmSq",
    "outputId": "e1d5b827-529b-424a-c184-6ca82e4c7d4f"
   },
   "outputs": [
    {
     "name": "stdout",
     "output_type": "stream",
     "text": [
      "--2019-06-17 18:01:05--  https://s3.amazonaws.com/amdegroot-models/vgg16_reducedfc.pth\n",
      "Resolving s3.amazonaws.com (s3.amazonaws.com)... 52.216.109.245\n",
      "Connecting to s3.amazonaws.com (s3.amazonaws.com)|52.216.109.245|:443... connected.\n",
      "HTTP request sent, awaiting response... 200 OK\n",
      "Length: 81938914 (78M) [binary/octet-stream]\n",
      "Saving to: ‘vgg16_reducedfc.pth’\n",
      "\n",
      "vgg16_reducedfc.pth 100%[===================>]  78,14M  1,25MB/s    in 43s     \n",
      "\n",
      "2019-06-17 18:01:49 (1,80 MB/s) - ‘vgg16_reducedfc.pth’ saved [81938914/81938914]\n",
      "\n"
     ]
    }
   ],
   "source": [
    "# ベースネットワークのパラメータファイルをダウンロード\n",
    "!wget https://s3.amazonaws.com/amdegroot-models/vgg16_reducedfc.pth"
   ]
  },
  {
   "cell_type": "code",
   "execution_count": 4,
   "metadata": {
    "colab": {},
    "colab_type": "code",
    "id": "iRyJbVdzoEm6"
   },
   "outputs": [],
   "source": [
    "import os\n",
    "# フォルダweights未作成の場合に作成\n",
    "if not os.path.exists('weights/'):\n",
    "    os.mkdir('weights/')"
   ]
  },
  {
   "cell_type": "code",
   "execution_count": 5,
   "metadata": {
    "colab": {},
    "colab_type": "code",
    "id": "da-ySmBbpIBa"
   },
   "outputs": [],
   "source": [
    "# パラメータファイルをフォルダweightsに移動\n",
    "!mv vgg16_reducedfc.pth weights"
   ]
  },
  {
   "cell_type": "code",
   "execution_count": 1,
   "metadata": {},
   "outputs": [
    {
     "name": "stdout",
     "output_type": "stream",
     "text": [
      "--2019-06-17 18:17:48--  https://s3.amazonaws.com/amdegroot-models/ssd300_mAP_77.43_v2.pth\n",
      "Resolving s3.amazonaws.com (s3.amazonaws.com)... 52.216.101.189\n",
      "Connecting to s3.amazonaws.com (s3.amazonaws.com)|52.216.101.189|:443... connected.\n",
      "HTTP request sent, awaiting response... 200 OK\n",
      "Length: 105151288 (100M) [application/x-www-form-urlencoded]\n",
      "Saving to: ‘ssd300_mAP_77.43_v2.pth’\n",
      "\n",
      "ssd300_mAP_77.43_v2 100%[===================>] 100,28M  2,82MB/s    in 53s     \n",
      "\n",
      "2019-06-17 18:18:41 (1,91 MB/s) - ‘ssd300_mAP_77.43_v2.pth’ saved [105151288/105151288]\n",
      "\n"
     ]
    }
   ],
   "source": [
    "!wget https://s3.amazonaws.com/amdegroot-models/ssd300_mAP_77.43_v2.pth"
   ]
  },
  {
   "cell_type": "code",
   "execution_count": 2,
   "metadata": {},
   "outputs": [],
   "source": [
    "!mv ssd300_mAP_77.43_v2.pth weights"
   ]
  },
  {
   "cell_type": "markdown",
   "metadata": {
    "colab_type": "text",
    "id": "RGCwuMMVOeNK"
   },
   "source": [
    "# データセットVOC2007(0.9GB)のダウンロード（フォルダVOCdevkit未格納時）"
   ]
  },
  {
   "cell_type": "code",
   "execution_count": 3,
   "metadata": {
    "colab": {
     "base_uri": "https://localhost:8080/",
     "height": 391
    },
    "colab_type": "code",
    "executionInfo": {
     "elapsed": 216320,
     "status": "ok",
     "timestamp": 1553953720920,
     "user": {
      "displayName": "毛利拓也",
      "photoUrl": "",
      "userId": "17854120745961292401"
     },
     "user_tz": -540
    },
    "id": "Z-JsUnPoG6Y_",
    "outputId": "5156b730-378e-496f-fa4d-1bf800e11398"
   },
   "outputs": [
    {
     "name": "stdout",
     "output_type": "stream",
     "text": [
      "--2019-06-17 18:24:13--  http://host.robots.ox.ac.uk/pascal/VOC/voc2007/VOCtrainval_06-Nov-2007.tar\n",
      "Resolving host.robots.ox.ac.uk (host.robots.ox.ac.uk)... 129.67.94.152\n",
      "Connecting to host.robots.ox.ac.uk (host.robots.ox.ac.uk)|129.67.94.152|:80... connected.\n",
      "HTTP request sent, awaiting response... 200 OK\n",
      "Length: 460032000 (439M) [application/x-tar]\n",
      "Saving to: ‘VOCtrainval_06-Nov-2007.tar’\n",
      "\n",
      "VOCtrainval_06-Nov- 100%[===================>] 438,72M  4,43MB/s    in 2m 8s   \n",
      "\n",
      "2019-06-17 18:26:21 (3,43 MB/s) - ‘VOCtrainval_06-Nov-2007.tar’ saved [460032000/460032000]\n",
      "\n",
      "--2019-06-17 18:26:21--  http://host.robots.ox.ac.uk/pascal/VOC/voc2007/VOCtest_06-Nov-2007.tar\n",
      "Resolving host.robots.ox.ac.uk (host.robots.ox.ac.uk)... 129.67.94.152\n",
      "Connecting to host.robots.ox.ac.uk (host.robots.ox.ac.uk)|129.67.94.152|:80... connected.\n",
      "HTTP request sent, awaiting response... 200 OK\n",
      "Length: 451020800 (430M) [application/x-tar]\n",
      "Saving to: ‘VOCtest_06-Nov-2007.tar’\n",
      "\n",
      "VOCtest_06-Nov-2007 100%[===================>] 430,13M  4,41MB/s    in 2m 6s   \n",
      "\n",
      "2019-06-17 18:28:28 (3,40 MB/s) - ‘VOCtest_06-Nov-2007.tar’ saved [451020800/451020800]\n",
      "\n"
     ]
    }
   ],
   "source": [
    "# データセットVOC2007をダウンロード \n",
    "!wget http://host.robots.ox.ac.uk/pascal/VOC/voc2007/VOCtrainval_06-Nov-2007.tar\n",
    "!tar xf VOCtrainval_06-Nov-2007.tar\n",
    "\n",
    "!wget http://host.robots.ox.ac.uk/pascal/VOC/voc2007/VOCtest_06-Nov-2007.tar\n",
    "!tar xf VOCtest_06-Nov-2007.tar"
   ]
  },
  {
   "cell_type": "markdown",
   "metadata": {
    "colab_type": "text",
    "id": "IWnR9nr1ledy"
   },
   "source": [
    "# データセットVOC2012(1.9GB)のダウンロード（フォルダVOCdevkit未格納時）"
   ]
  },
  {
   "cell_type": "code",
   "execution_count": 4,
   "metadata": {
    "colab": {
     "base_uri": "https://localhost:8080/",
     "height": 204
    },
    "colab_type": "code",
    "executionInfo": {
     "elapsed": 513603,
     "status": "ok",
     "timestamp": 1554481801392,
     "user": {
      "displayName": "毛利拓也",
      "photoUrl": "",
      "userId": "17854120745961292401"
     },
     "user_tz": -540
    },
    "id": "Jyjyc5vTHpwk",
    "outputId": "82f34fe7-8aae-447a-8a06-d656557a1f77"
   },
   "outputs": [
    {
     "name": "stdout",
     "output_type": "stream",
     "text": [
      "--2019-06-17 18:29:39--  http://host.robots.ox.ac.uk/pascal/VOC/voc2012/VOCtrainval_11-May-2012.tar\n",
      "Resolving host.robots.ox.ac.uk (host.robots.ox.ac.uk)... 129.67.94.152\n",
      "Connecting to host.robots.ox.ac.uk (host.robots.ox.ac.uk)|129.67.94.152|:80... connected.\n",
      "HTTP request sent, awaiting response... 200 OK\n",
      "Length: 1999639040 (1,9G) [application/x-tar]\n",
      "Saving to: ‘VOCtrainval_11-May-2012.tar’\n",
      "\n",
      "VOCtrainval_11-May- 100%[===================>]   1,86G  6,47MB/s    in 5m 9s   \n",
      "\n",
      "2019-06-17 18:34:48 (6,18 MB/s) - ‘VOCtrainval_11-May-2012.tar’ saved [1999639040/1999639040]\n",
      "\n"
     ]
    }
   ],
   "source": [
    "# データセットVOC2012をダウンロード \n",
    "!wget http://host.robots.ox.ac.uk/pascal/VOC/voc2012/VOCtrainval_11-May-2012.tar\n",
    "!tar xf VOCtrainval_11-May-2012.tar"
   ]
  },
  {
   "cell_type": "markdown",
   "metadata": {
    "colab_type": "text",
    "id": "Byf3Z27lO1M6"
   },
   "source": [
    "# SSDネットワークの学習"
   ]
  },
  {
   "cell_type": "code",
   "execution_count": 5,
   "metadata": {
    "colab": {
     "base_uri": "https://localhost:8080/",
     "height": 85
    },
    "colab_type": "code",
    "executionInfo": {
     "elapsed": 3668,
     "status": "ok",
     "timestamp": 1554481820455,
     "user": {
      "displayName": "毛利拓也",
      "photoUrl": "",
      "userId": "17854120745961292401"
     },
     "user_tz": -540
    },
    "id": "FNoiaSbinwGP",
    "outputId": "29a40991-dee9-4f64-e146-5c4ad72ee83e"
   },
   "outputs": [
    {
     "name": "stdout",
     "output_type": "stream",
     "text": [
      "data\tREADME.md\t  utils\t\t\t   VOCtrainval_06-Nov-2007.tar\r\n",
      "demo\tsection7_4.ipynb  VOCdevkit\t\t   VOCtrainval_11-May-2012.tar\r\n",
      "layers\tssd.py\t\t  VOCtest_06-Nov-2007.tar  weights\r\n"
     ]
    }
   ],
   "source": [
    "# ファイル名を表示\n",
    "!ls"
   ]
  },
  {
   "cell_type": "code",
   "execution_count": 6,
   "metadata": {
    "colab": {},
    "colab_type": "code",
    "id": "icr3Bcpet_cG"
   },
   "outputs": [],
   "source": [
    "from data import *\n",
    "from utils.augmentations import SSDAugmentation\n",
    "from layers.modules import MultiBoxLoss\n",
    "from ssd import build_ssd\n",
    "import os\n",
    "import sys\n",
    "import time\n",
    "import torch\n",
    "import torch.nn as nn\n",
    "import torch.optim as optim\n",
    "import torch.backends.cudnn as cudnn\n",
    "import torch.nn.init as init\n",
    "import torch.utils.data as data\n",
    "import numpy as np\n",
    "import argparse"
   ]
  },
  {
   "cell_type": "code",
   "execution_count": 7,
   "metadata": {
    "colab": {},
    "colab_type": "code",
    "id": "WiQV5Z6KQj-V"
   },
   "outputs": [],
   "source": [
    "# 学習の再開時はargs['resume']にパラメータファイルを指定\n",
    "args = {'dataset':'VOC',\n",
    "        'basenet':'vgg16_reducedfc.pth',\n",
    "        'batch_size':12,\n",
    "        'resume':'',\n",
    "        'start_iter':0,\n",
    "        'num_workers':4,\n",
    "        'cuda':True,\n",
    "        'lr':5e-4,\n",
    "        'momentum':0.9,\n",
    "        'weight_decay':5e-4,\n",
    "        'gamma':0.1,\n",
    "        'save_folder':'weights/'\n",
    "       }"
   ]
  },
  {
   "cell_type": "code",
   "execution_count": 8,
   "metadata": {
    "colab": {},
    "colab_type": "code",
    "id": "oWYEDUASQuhU"
   },
   "outputs": [],
   "source": [
    "# Tensor作成時のデフォルトにGPU Tensorを設定\n",
    "if torch.cuda.is_available():\n",
    "    if args['cuda']:\n",
    "        torch.set_default_tensor_type('torch.cuda.FloatTensor')\n",
    "    if not args['cuda']:\n",
    "        print(\"WARNING: It looks like you have a CUDA device, but aren't \" +\n",
    "              \"using CUDA.\\nRun with --cuda for optimal training speed.\")\n",
    "        torch.set_default_tensor_type('torch.FloatTensor')\n",
    "else:\n",
    "    torch.set_default_tensor_type('torch.FloatTensor')"
   ]
  },
  {
   "cell_type": "code",
   "execution_count": 9,
   "metadata": {
    "colab": {},
    "colab_type": "code",
    "id": "-l99I9gTQ3bq"
   },
   "outputs": [],
   "source": [
    "# 訓練データの設定\n",
    "cfg = voc\n",
    "dataset = VOCDetection(root=VOC_ROOT,\n",
    "                       transform=SSDAugmentation(cfg['min_dim'],\n",
    "                                                 MEANS))"
   ]
  },
  {
   "cell_type": "code",
   "execution_count": 10,
   "metadata": {
    "colab": {},
    "colab_type": "code",
    "id": "y-yIlvtmQ5cC"
   },
   "outputs": [],
   "source": [
    "# ネットワークの定義\n",
    "ssd_net = build_ssd('train', cfg['min_dim'], cfg['num_classes'])\n",
    "device = 'cuda' if torch.cuda.is_available() else 'cpu'\n",
    "# ネットワークをGPUに転送\n",
    "net = ssd_net.to(device)"
   ]
  },
  {
   "cell_type": "code",
   "execution_count": 11,
   "metadata": {
    "colab": {
     "base_uri": "https://localhost:8080/",
     "height": 34
    },
    "colab_type": "code",
    "executionInfo": {
     "elapsed": 1102,
     "status": "ok",
     "timestamp": 1554481849733,
     "user": {
      "displayName": "毛利拓也",
      "photoUrl": "",
      "userId": "17854120745961292401"
     },
     "user_tz": -540
    },
    "id": "YwroXb1CT9TX",
    "outputId": "221579ab-e86d-4ee8-d24f-557a95086dca"
   },
   "outputs": [
    {
     "name": "stdout",
     "output_type": "stream",
     "text": [
      "Loading base network...\n"
     ]
    }
   ],
   "source": [
    "# 学習の再開時はargs['resume']のパラメータをロード\n",
    "if args['resume']:\n",
    "    print('Resuming training, loading {}...'.format(args['resume']))\n",
    "    ssd_net.load_weights(args['save_folder'] + args['resume'])\n",
    "# 学習の開始時はargs['basenet']のパラメータをロード    \n",
    "else:\n",
    "    vgg_weights = torch.load(args['save_folder'] + args['basenet'])\n",
    "    print('Loading base network...')\n",
    "    ssd_net.vgg.load_state_dict(vgg_weights)"
   ]
  },
  {
   "cell_type": "code",
   "execution_count": 12,
   "metadata": {
    "colab": {
     "base_uri": "https://localhost:8080/",
     "height": 1139
    },
    "colab_type": "code",
    "executionInfo": {
     "elapsed": 583,
     "status": "ok",
     "timestamp": 1554481851238,
     "user": {
      "displayName": "毛利拓也",
      "photoUrl": "",
      "userId": "17854120745961292401"
     },
     "user_tz": -540
    },
    "id": "hiqc2gTuaSnF",
    "outputId": "6acb358c-78f0-408f-972d-4a65660028a6"
   },
   "outputs": [
    {
     "name": "stdout",
     "output_type": "stream",
     "text": [
      "SSD(\n",
      "  (vgg): ModuleList(\n",
      "    (0): Conv2d(3, 64, kernel_size=(3, 3), stride=(1, 1), padding=(1, 1))\n",
      "    (1): ReLU(inplace)\n",
      "    (2): Conv2d(64, 64, kernel_size=(3, 3), stride=(1, 1), padding=(1, 1))\n",
      "    (3): ReLU(inplace)\n",
      "    (4): MaxPool2d(kernel_size=2, stride=2, padding=0, dilation=1, ceil_mode=False)\n",
      "    (5): Conv2d(64, 128, kernel_size=(3, 3), stride=(1, 1), padding=(1, 1))\n",
      "    (6): ReLU(inplace)\n",
      "    (7): Conv2d(128, 128, kernel_size=(3, 3), stride=(1, 1), padding=(1, 1))\n",
      "    (8): ReLU(inplace)\n",
      "    (9): MaxPool2d(kernel_size=2, stride=2, padding=0, dilation=1, ceil_mode=False)\n",
      "    (10): Conv2d(128, 256, kernel_size=(3, 3), stride=(1, 1), padding=(1, 1))\n",
      "    (11): ReLU(inplace)\n",
      "    (12): Conv2d(256, 256, kernel_size=(3, 3), stride=(1, 1), padding=(1, 1))\n",
      "    (13): ReLU(inplace)\n",
      "    (14): Conv2d(256, 256, kernel_size=(3, 3), stride=(1, 1), padding=(1, 1))\n",
      "    (15): ReLU(inplace)\n",
      "    (16): MaxPool2d(kernel_size=2, stride=2, padding=0, dilation=1, ceil_mode=True)\n",
      "    (17): Conv2d(256, 512, kernel_size=(3, 3), stride=(1, 1), padding=(1, 1))\n",
      "    (18): ReLU(inplace)\n",
      "    (19): Conv2d(512, 512, kernel_size=(3, 3), stride=(1, 1), padding=(1, 1))\n",
      "    (20): ReLU(inplace)\n",
      "    (21): Conv2d(512, 512, kernel_size=(3, 3), stride=(1, 1), padding=(1, 1))\n",
      "    (22): ReLU(inplace)\n",
      "    (23): MaxPool2d(kernel_size=2, stride=2, padding=0, dilation=1, ceil_mode=False)\n",
      "    (24): Conv2d(512, 512, kernel_size=(3, 3), stride=(1, 1), padding=(1, 1))\n",
      "    (25): ReLU(inplace)\n",
      "    (26): Conv2d(512, 512, kernel_size=(3, 3), stride=(1, 1), padding=(1, 1))\n",
      "    (27): ReLU(inplace)\n",
      "    (28): Conv2d(512, 512, kernel_size=(3, 3), stride=(1, 1), padding=(1, 1))\n",
      "    (29): ReLU(inplace)\n",
      "    (30): MaxPool2d(kernel_size=3, stride=1, padding=1, dilation=1, ceil_mode=False)\n",
      "    (31): Conv2d(512, 1024, kernel_size=(3, 3), stride=(1, 1), padding=(6, 6), dilation=(6, 6))\n",
      "    (32): ReLU(inplace)\n",
      "    (33): Conv2d(1024, 1024, kernel_size=(1, 1), stride=(1, 1))\n",
      "    (34): ReLU(inplace)\n",
      "  )\n",
      "  (L2Norm): L2Norm()\n",
      "  (extras): ModuleList(\n",
      "    (0): Conv2d(1024, 256, kernel_size=(1, 1), stride=(1, 1))\n",
      "    (1): Conv2d(256, 512, kernel_size=(3, 3), stride=(2, 2), padding=(1, 1))\n",
      "    (2): Conv2d(512, 128, kernel_size=(1, 1), stride=(1, 1))\n",
      "    (3): Conv2d(128, 256, kernel_size=(3, 3), stride=(2, 2), padding=(1, 1))\n",
      "    (4): Conv2d(256, 128, kernel_size=(1, 1), stride=(1, 1))\n",
      "    (5): Conv2d(128, 256, kernel_size=(3, 3), stride=(1, 1))\n",
      "    (6): Conv2d(256, 128, kernel_size=(1, 1), stride=(1, 1))\n",
      "    (7): Conv2d(128, 256, kernel_size=(3, 3), stride=(1, 1))\n",
      "  )\n",
      "  (loc): ModuleList(\n",
      "    (0): Conv2d(512, 16, kernel_size=(3, 3), stride=(1, 1), padding=(1, 1))\n",
      "    (1): Conv2d(1024, 24, kernel_size=(3, 3), stride=(1, 1), padding=(1, 1))\n",
      "    (2): Conv2d(512, 24, kernel_size=(3, 3), stride=(1, 1), padding=(1, 1))\n",
      "    (3): Conv2d(256, 24, kernel_size=(3, 3), stride=(1, 1), padding=(1, 1))\n",
      "    (4): Conv2d(256, 16, kernel_size=(3, 3), stride=(1, 1), padding=(1, 1))\n",
      "    (5): Conv2d(256, 16, kernel_size=(3, 3), stride=(1, 1), padding=(1, 1))\n",
      "  )\n",
      "  (conf): ModuleList(\n",
      "    (0): Conv2d(512, 84, kernel_size=(3, 3), stride=(1, 1), padding=(1, 1))\n",
      "    (1): Conv2d(1024, 126, kernel_size=(3, 3), stride=(1, 1), padding=(1, 1))\n",
      "    (2): Conv2d(512, 126, kernel_size=(3, 3), stride=(1, 1), padding=(1, 1))\n",
      "    (3): Conv2d(256, 126, kernel_size=(3, 3), stride=(1, 1), padding=(1, 1))\n",
      "    (4): Conv2d(256, 84, kernel_size=(3, 3), stride=(1, 1), padding=(1, 1))\n",
      "    (5): Conv2d(256, 84, kernel_size=(3, 3), stride=(1, 1), padding=(1, 1))\n",
      "  )\n",
      ")\n"
     ]
    }
   ],
   "source": [
    "# ネットワークのモジュールリストを出力\n",
    "print(net)"
   ]
  },
  {
   "cell_type": "code",
   "execution_count": 13,
   "metadata": {
    "colab": {},
    "colab_type": "code",
    "id": "RHAfsL58dD-e"
   },
   "outputs": [],
   "source": [
    "if args['cuda']:\n",
    "    net = torch.nn.DataParallel(ssd_net)\n",
    "    cudnn.benchmark = True"
   ]
  },
  {
   "cell_type": "code",
   "execution_count": 14,
   "metadata": {
    "colab": {},
    "colab_type": "code",
    "id": "FJLfVkaFv1Ef"
   },
   "outputs": [],
   "source": [
    "def adjust_learning_rate(optimizer, gamma, step):\n",
    "    \"\"\"Sets the learning rate to the initial LR decayed by 10 at every\n",
    "        specified step\n",
    "    # Adapted from PyTorch Imagenet example:\n",
    "    # https://github.com/pytorch/examples/blob/master/imagenet/main.py\n",
    "    \"\"\"\n",
    "    lr = args['lr'] * (gamma ** (step))\n",
    "    for param_group in optimizer.param_groups:\n",
    "        param_group['lr'] = lr\n",
    "\n",
    "\n",
    "def xavier(param):\n",
    "    init.xavier_uniform_(param)\n",
    "\n",
    "\n",
    "def weights_init(m):\n",
    "    if isinstance(m, nn.Conv2d):\n",
    "        xavier(m.weight.data)\n",
    "        m.bias.data.zero_()"
   ]
  },
  {
   "cell_type": "code",
   "execution_count": 15,
   "metadata": {
    "colab": {
     "base_uri": "https://localhost:8080/",
     "height": 34
    },
    "colab_type": "code",
    "executionInfo": {
     "elapsed": 1044,
     "status": "ok",
     "timestamp": 1554481856623,
     "user": {
      "displayName": "毛利拓也",
      "photoUrl": "",
      "userId": "17854120745961292401"
     },
     "user_tz": -540
    },
    "id": "RoXXclmoUMxB",
    "outputId": "41d2b4d5-64aa-473f-b8b5-c0c6e620426f"
   },
   "outputs": [
    {
     "name": "stdout",
     "output_type": "stream",
     "text": [
      "Initializing weights...\n"
     ]
    }
   ],
   "source": [
    "# 新規モデル学習時は追加ネットワークの畳み込み、位置推定、クラス分類の畳み込みパラメータを初期化する\n",
    "if not args['resume']:\n",
    "    print('Initializing weights...')\n",
    "    # initialize newly added layers' weights with xavier method\n",
    "    ssd_net.extras.apply(weights_init)\n",
    "    ssd_net.loc.apply(weights_init)\n",
    "    ssd_net.conf.apply(weights_init)"
   ]
  },
  {
   "cell_type": "code",
   "execution_count": 16,
   "metadata": {
    "colab": {},
    "colab_type": "code",
    "id": "Jxv64mg77una"
   },
   "outputs": [],
   "source": [
    "# 損失関数の設定\n",
    "criterion = MultiBoxLoss(cfg['num_classes'], 0.5, True, 0, True, 3, 0.5,\n",
    "                         False, args['cuda'])"
   ]
  },
  {
   "cell_type": "code",
   "execution_count": 17,
   "metadata": {
    "colab": {},
    "colab_type": "code",
    "id": "6CYNS2LSUWCy"
   },
   "outputs": [],
   "source": [
    "# 最適化パラメータの設定\n",
    "optimizer = optim.SGD(net.parameters(), lr=args['lr'], momentum=args['momentum'],\n",
    "                      weight_decay=args['weight_decay'])"
   ]
  },
  {
   "cell_type": "code",
   "execution_count": 18,
   "metadata": {
    "colab": {
     "base_uri": "https://localhost:8080/",
     "height": 139
    },
    "colab_type": "code",
    "executionInfo": {
     "elapsed": 1160,
     "status": "ok",
     "timestamp": 1554481863333,
     "user": {
      "displayName": "毛利拓也",
      "photoUrl": "",
      "userId": "17854120745961292401"
     },
     "user_tz": -540
    },
    "id": "04iQnv9rUa3y",
    "outputId": "24cbfccc-3e5e-4157-fd02-829d744f2710"
   },
   "outputs": [
    {
     "name": "stdout",
     "output_type": "stream",
     "text": [
      "Loading the dataset...\n",
      "dataset_size 16551\n",
      "epoch_size 1379\n",
      "Training SSD on: VOC0712\n",
      "Using the specified args:\n",
      "{'cuda': True, 'basenet': 'vgg16_reducedfc.pth', 'save_folder': 'weights/', 'dataset': 'VOC', 'weight_decay': 0.0005, 'start_iter': 0, 'lr': 0.0005, 'momentum': 0.9, 'gamma': 0.1, 'batch_size': 12, 'resume': '', 'num_workers': 4}\n"
     ]
    }
   ],
   "source": [
    "# 訓練モード\n",
    "net.train()\n",
    "# loss counters\n",
    "loc_loss = 0\n",
    "conf_loss = 0\n",
    "epoch = 0\n",
    "print('Loading the dataset...')\n",
    "\n",
    "epoch_size = len(dataset) // args['batch_size']\n",
    "print('dataset_size', len(dataset))\n",
    "print('epoch_size', epoch_size)\n",
    "print('Training SSD on:', dataset.name)\n",
    "print('Using the specified args:')\n",
    "print(args)\n",
    "\n",
    "step_index = 0"
   ]
  },
  {
   "cell_type": "code",
   "execution_count": 19,
   "metadata": {
    "colab": {},
    "colab_type": "code",
    "id": "5-RZGtOwUdtT"
   },
   "outputs": [],
   "source": [
    "# 訓練データのデータローダへの設定\n",
    "data_loader = data.DataLoader(dataset, args['batch_size'],\n",
    "                              num_workers=args['num_workers'],\n",
    "                              shuffle=True, collate_fn=detection_collate,\n",
    "                              pin_memory=True)"
   ]
  },
  {
   "cell_type": "code",
   "execution_count": null,
   "metadata": {
    "colab": {
     "base_uri": "https://localhost:8080/",
     "height": 2108
    },
    "colab_type": "code",
    "executionInfo": {
     "elapsed": 1179715,
     "status": "ok",
     "timestamp": 1554483048099,
     "user": {
      "displayName": "毛利拓也",
      "photoUrl": "",
      "userId": "17854120745961292401"
     },
     "user_tz": -540
    },
    "id": "U1fd8Y2dUnGY",
    "outputId": "25dedfd5-02d6-45c9-92d5-25c6756f35d6"
   },
   "outputs": [
    {
     "name": "stderr",
     "output_type": "stream",
     "text": [
      "/usr/local/lib/python3.5/dist-packages/torch/nn/functional.py:52: UserWarning: size_average and reduce args will be deprecated, please use reduction='sum' instead.\n",
      "  warnings.warn(warning.format(ret))\n"
     ]
    }
   ],
   "source": [
    "# 学習の開始\n",
    "batch_iterator = None\n",
    "# iterationでループして、cfg['max_iter']まで学習する\n",
    "for iteration in range(args['start_iter'], cfg['max_iter']):\n",
    "    # 学習開始時または1epoch終了後にdata_loaderから訓練データをロードする\n",
    "    if (not batch_iterator) or (iteration % epoch_size ==0):\n",
    "        batch_iterator = iter(data_loader)\n",
    "        loc_loss = 0\n",
    "        conf_loss = 0\n",
    "        epoch += 1\n",
    "\n",
    "    if iteration in cfg['lr_steps']:\n",
    "        step_index += 1\n",
    "        adjust_learning_rate(optimizer, args['gamma'], step_index)\n",
    "        \n",
    "    # load train data\n",
    "    # バッチサイズ分の訓練データをload\n",
    "    images, targets = next(batch_iterator)\n",
    "    \n",
    "    # 画像をGPUに転送\n",
    "    images = images.to(device)\n",
    "    # アノテーションをGPUに転送    \n",
    "    targets = [ann.to(device) for ann in targets]\n",
    "\n",
    "    # forward\n",
    "    t0 = time.time()\n",
    "    # 順伝播の計算\n",
    "    out = net(images)\n",
    "    # 勾配の初期化\n",
    "    optimizer.zero_grad()\n",
    "    # 損失関数の計算\n",
    "    loss_l, loss_c = criterion(out, targets)\n",
    "    loss = loss_l + loss_c\n",
    "    # 勾配の計算\n",
    "    loss.backward()\n",
    "    # パラメータの更新\n",
    "    optimizer.step()\n",
    "    t1 = time.time()\n",
    "    # 損失関数の更新\n",
    "    loc_loss += loss_l.item()\n",
    "    conf_loss += loss_c.item()\n",
    "    \n",
    "    #ログの出力\n",
    "    if iteration % 10 == 0:\n",
    "        print('timer: %.4f sec.' % (t1 - t0))\n",
    "        print('iter ' + repr(iteration) + ' || Loss: %.4f ||' % (loss.item()), end=' ')\n",
    "\n",
    "# 学習済みモデルの保存\n",
    "torch.save(ssd_net.state_dict(),\n",
    "           args['save_folder'] + '' + args['dataset'] + '.pth')"
   ]
  },
  {
   "cell_type": "code",
   "execution_count": 0,
   "metadata": {
    "colab": {},
    "colab_type": "code",
    "id": "O4ILdWUja2B4"
   },
   "outputs": [],
   "source": []
  }
 ],
 "metadata": {
  "accelerator": "GPU",
  "colab": {
   "collapsed_sections": [],
   "name": "section7_4.ipynb",
   "provenance": [
    {
     "file_id": "1jU6TylxokF1JvOurfvaDGG2vmffiECx_",
     "timestamp": 1540377950842
    }
   ],
   "version": "0.3.2"
  },
  "kernelspec": {
   "display_name": "Python 3",
   "language": "python",
   "name": "python3"
  },
  "language_info": {
   "codemirror_mode": {
    "name": "ipython",
    "version": 3
   },
   "file_extension": ".py",
   "mimetype": "text/x-python",
   "name": "python",
   "nbconvert_exporter": "python",
   "pygments_lexer": "ipython3",
   "version": "3.5.2"
  }
 },
 "nbformat": 4,
 "nbformat_minor": 1
}
